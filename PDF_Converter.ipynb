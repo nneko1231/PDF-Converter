{
  "nbformat": 4,
  "nbformat_minor": 0,
  "metadata": {
    "colab": {
      "provenance": [],
      "authorship_tag": "ABX9TyOAPCWwkDTmFgT1i5I4QCD4",
      "include_colab_link": true
    },
    "kernelspec": {
      "name": "python3",
      "display_name": "Python 3"
    },
    "language_info": {
      "name": "python"
    }
  },
  "cells": [
    {
      "cell_type": "markdown",
      "metadata": {
        "id": "view-in-github",
        "colab_type": "text"
      },
      "source": [
        "<a href=\"https://colab.research.google.com/github/nneko1231/PDF-Converter/blob/main/PDF_Converter.ipynb\" target=\"_parent\"><img src=\"https://colab.research.google.com/assets/colab-badge.svg\" alt=\"Open In Colab\"/></a>"
      ]
    },
    {
      "cell_type": "code",
      "source": [
        "!apt-get install -y poppler-utils\n",
        "!pip install pdf2image\n",
        "\n",
        "# will mount drive if MOUNT_DRIVE is True\n",
        "import os\n",
        "import subprocess\n",
        "import shutil\n",
        "from google.colab import drive, output\n",
        "\n",
        "# Add a parameter to control mounting Google Drive\n",
        "MOUNT_DRIVE = False  #@param {type:\"boolean\"}\n",
        "\n",
        "# mount drive if MOUNT_DRIVE is True\n",
        "if MOUNT_DRIVE:\n",
        "    drive.mount('/content/drive')"
      ],
      "metadata": {
        "cellView": "form",
        "id": "9Bq_qy3AyI_V"
      },
      "execution_count": null,
      "outputs": []
    },
    {
      "cell_type": "code",
      "source": [
        "PDF_PATH = \"/content/The Black Bride.pdf\" #@param {type:\"string\"}\n",
        "IMAGE_FORMAT = \"png\" # @param [\"png\",\"jpg\"] {\"type\":\"raw\"}\n",
        "IMAGE_DPI = \"300\" # @param [\"72\",\"150\",\"300\",\"600\"]\n",
        "IMAGE_NAME = \"The Black Bride\" #@param {type:\"string\"}\n",
        "IMAGE_FORMAT_NUMBER = 00 # @param {\"type\":\"integer\"}\n",
        "IMAGE_PATH = \"/content/The Black Bride\" #@param {type:\"string\"}\n",
        "ZIP_OUTPUT_PATH = \"/content/The Black Bride\" #@param {type:\"string\"}"
      ],
      "metadata": {
        "id": "cQIE3M85yrlv",
        "cellView": "form"
      },
      "execution_count": 2,
      "outputs": []
    },
    {
      "cell_type": "code",
      "source": [
        "#@title Run\n",
        "from pdf2image import convert_from_path\n",
        "import os\n",
        "from PIL import Image\n",
        "from tqdm import tqdm\n",
        "import shutil\n",
        "\n",
        "os.makedirs(IMAGE_PATH, exist_ok=True)\n",
        "\n",
        "print(\"📄 Reading PDF...\")\n",
        "pages = convert_from_path(PDF_PATH, dpi=IMAGE_DPI)\n",
        "\n",
        "digit_count = IMAGE_FORMAT_NUMBER\n",
        "\n",
        "print(\"🔄 Converting pages...\")\n",
        "for i, page in enumerate(tqdm(pages, desc=\"Converting pages\")):\n",
        "    num_str = str(i).zfill(digit_count)\n",
        "    file_name = f\"{IMAGE_NAME}_{num_str}.{IMAGE_FORMAT}\"\n",
        "    file_path = os.path.join(IMAGE_PATH, file_name)\n",
        "    page.save(file_path, IMAGE_FORMAT.upper())\n",
        "\n",
        "print(f\"✅ {len(pages)} pages successfully converted to {IMAGE_FORMAT.upper()} format in folder '{IMAGE_PATH}'.\")\n",
        "\n",
        "shutil.make_archive(ZIP_OUTPUT_PATH.replace('.zip', ''), 'zip', IMAGE_PATH)\n",
        "print(f\"📦 ZIP file created successfully: {ZIP_OUTPUT_PATH}\")\n"
      ],
      "metadata": {
        "id": "LYhwtfIS1d44",
        "cellView": "form"
      },
      "execution_count": null,
      "outputs": []
    },
    {
      "cell_type": "code",
      "source": [
        "#@title Zip Download\n",
        "from google.colab import files\n",
        "\n",
        "if not ZIP_OUTPUT_PATH.endswith(\".zip\"):\n",
        "    zip_file = ZIP_OUTPUT_PATH + \".zip\"\n",
        "else:\n",
        "    zip_file = ZIP_OUTPUT_PATH\n",
        "\n",
        "files.download(zip_file)\n"
      ],
      "metadata": {
        "cellView": "form",
        "id": "zT3EVlQ75W5c",
        "colab": {
          "base_uri": "https://localhost:8080/",
          "height": 17
        },
        "outputId": "91dfb0aa-a5e1-4c8c-9fb2-e4a31fffa2aa"
      },
      "execution_count": 7,
      "outputs": [
        {
          "output_type": "display_data",
          "data": {
            "text/plain": [
              "<IPython.core.display.Javascript object>"
            ],
            "application/javascript": [
              "\n",
              "    async function download(id, filename, size) {\n",
              "      if (!google.colab.kernel.accessAllowed) {\n",
              "        return;\n",
              "      }\n",
              "      const div = document.createElement('div');\n",
              "      const label = document.createElement('label');\n",
              "      label.textContent = `Downloading \"${filename}\": `;\n",
              "      div.appendChild(label);\n",
              "      const progress = document.createElement('progress');\n",
              "      progress.max = size;\n",
              "      div.appendChild(progress);\n",
              "      document.body.appendChild(div);\n",
              "\n",
              "      const buffers = [];\n",
              "      let downloaded = 0;\n",
              "\n",
              "      const channel = await google.colab.kernel.comms.open(id);\n",
              "      // Send a message to notify the kernel that we're ready.\n",
              "      channel.send({})\n",
              "\n",
              "      for await (const message of channel.messages) {\n",
              "        // Send a message to notify the kernel that we're ready.\n",
              "        channel.send({})\n",
              "        if (message.buffers) {\n",
              "          for (const buffer of message.buffers) {\n",
              "            buffers.push(buffer);\n",
              "            downloaded += buffer.byteLength;\n",
              "            progress.value = downloaded;\n",
              "          }\n",
              "        }\n",
              "      }\n",
              "      const blob = new Blob(buffers, {type: 'application/binary'});\n",
              "      const a = document.createElement('a');\n",
              "      a.href = window.URL.createObjectURL(blob);\n",
              "      a.download = filename;\n",
              "      div.appendChild(a);\n",
              "      a.click();\n",
              "      div.remove();\n",
              "    }\n",
              "  "
            ]
          },
          "metadata": {}
        },
        {
          "output_type": "display_data",
          "data": {
            "text/plain": [
              "<IPython.core.display.Javascript object>"
            ],
            "application/javascript": [
              "download(\"download_77661456-568c-4395-be6f-badff7b030d7\", \"The Black Bridezip.zip\", 115235123)"
            ]
          },
          "metadata": {}
        }
      ]
    }
  ]
}