{
  "nbformat": 4,
  "nbformat_minor": 0,
  "metadata": {
    "colab": {
      "provenance": [],
      "authorship_tag": "ABX9TyPzBNhNTy+lNIRNBNTmdamM",
      "include_colab_link": true
    },
    "kernelspec": {
      "name": "python3",
      "display_name": "Python 3"
    },
    "language_info": {
      "name": "python"
    }
  },
  "cells": [
    {
      "cell_type": "markdown",
      "metadata": {
        "id": "view-in-github",
        "colab_type": "text"
      },
      "source": [
        "<a href=\"https://colab.research.google.com/github/nneko1231/PDF-Converter/blob/main/PDF_Converter.ipynb\" target=\"_parent\"><img src=\"https://colab.research.google.com/assets/colab-badge.svg\" alt=\"Open In Colab\"/></a>"
      ]
    },
    {
      "cell_type": "code",
      "source": [
        "!apt-get install -y poppler-utils\n",
        "!pip install pdf2image\n",
        "\n",
        "# will mount drive if MOUNT_DRIVE is True\n",
        "import os\n",
        "import subprocess\n",
        "import shutil\n",
        "from google.colab import drive, output\n",
        "\n",
        "# Add a parameter to control mounting Google Drive\n",
        "MOUNT_DRIVE = True  #@param {type:\"boolean\"}\n",
        "\n",
        "# mount drive if MOUNT_DRIVE is True\n",
        "if MOUNT_DRIVE:\n",
        "    drive.mount('/content/drive')"
      ],
      "metadata": {
        "cellView": "form",
        "id": "9Bq_qy3AyI_V"
      },
      "execution_count": null,
      "outputs": []
    },
    {
      "cell_type": "code",
      "source": [
        "PDF_PATH = \"/content/pdf.pdf\" #@param {type:\"string\"}\n",
        "IMAGE_FORMAT = \"png\" # @param [\"png\",\"jpg\"] {\"type\":\"raw\"}\n",
        "IMAGE_DPI = \"300\" # @param [\"72\",\"150\",\"300\",\"600\"]\n",
        "IMAGE_NAME = \"pdf\" #@param {type:\"string\"}\n",
        "IMAGE_FORMAT_NUMBER = 00 # @param {\"type\":\"integer\"}\n",
        "IMAGE_PATH = \"/content/pdf\" #@param {type:\"string\"}\n",
        "ZIP_OUTPUT_PATH = \"/content/pdf.zip\" #@param {type:\"string\"}"
      ],
      "metadata": {
        "cellView": "form",
        "id": "cQIE3M85yrlv"
      },
      "execution_count": null,
      "outputs": []
    },
    {
      "cell_type": "code",
      "source": [
        "#@title Run\n",
        "from pdf2image import convert_from_path\n",
        "import os\n",
        "from PIL import Image\n",
        "from tqdm import tqdm\n",
        "\n",
        "os.makedirs(IMAGE_PATH, exist_ok=True)\n",
        "\n",
        "pages = convert_from_path(PDF_PATH, dpi=300)\n",
        "\n",
        "digit_count = len(IMAGE_FORMAT_NUMBER)\n",
        "\n",
        "for i, page in enumerate(tqdm(pages, desc=\"Mengonversi halaman\")):\n",
        "    num_str = str(i).zfill(digit_count)  # contoh: \"01\", \"002\", dst\n",
        "    file_name = f\"{IMAGE_NAME}_{num_str}.{IMAGE_FORMAT}\"\n",
        "    file_path = os.path.join(IMAGE_PATH, file_name)\n",
        "    page.save(file_path, IMAGE_FORMAT.upper())\n",
        "\n",
        "print(f\"✅ {len(pages)} halaman berhasil dikonversi ke format {IMAGE_FORMAT.upper()} di folder '{IMAGE_PATH}'.\")"
      ],
      "metadata": {
        "id": "LYhwtfIS1d44",
        "cellView": "form"
      },
      "execution_count": null,
      "outputs": []
    },
    {
      "cell_type": "code",
      "source": [
        "#@title Make Zip\n",
        "import zipfile\n",
        "from tqdm import tqdm\n",
        "import os\n",
        "\n",
        "if not ZIP_OUTPUT_PATH.endswith(\".zip\"):\n",
        "    ZIP_OUTPUT_PATH += \".zip\"\n",
        "\n",
        "file_list = []\n",
        "for root, dirs, files in os.walk(IMAGE_PATH):\n",
        "    for file in files:\n",
        "        file_path = os.path.join(root, file)\n",
        "        arcname = os.path.relpath(file_path, IMAGE_PATH)\n",
        "        file_list.append((file_path, arcname))\n",
        "\n",
        "with zipfile.ZipFile(ZIP_OUTPUT_PATH, 'w') as zipf:\n",
        "    for file_path, arcname in tqdm(file_list, desc=\"Membuat ZIP\"):\n",
        "        zipf.write(file_path, arcname)\n",
        "\n",
        "print(f\"✅ ZIP berhasil dibuat: {ZIP_OUTPUT_PATH}\")"
      ],
      "metadata": {
        "cellView": "form",
        "id": "Q0Il64iv4XJB"
      },
      "execution_count": null,
      "outputs": []
    },
    {
      "cell_type": "code",
      "source": [
        "#@title Zip Download\n",
        "from google.colab import files\n",
        "files.download(ZIP_OUTPUT_PATH)"
      ],
      "metadata": {
        "colab": {
          "base_uri": "https://localhost:8080/",
          "height": 17
        },
        "cellView": "form",
        "id": "zT3EVlQ75W5c",
        "outputId": "f5dab9b7-4608-49b7-e23e-0e21f25ee154"
      },
      "execution_count": null,
      "outputs": [
        {
          "output_type": "display_data",
          "data": {
            "text/plain": [
              "<IPython.core.display.Javascript object>"
            ],
            "application/javascript": [
              "\n",
              "    async function download(id, filename, size) {\n",
              "      if (!google.colab.kernel.accessAllowed) {\n",
              "        return;\n",
              "      }\n",
              "      const div = document.createElement('div');\n",
              "      const label = document.createElement('label');\n",
              "      label.textContent = `Downloading \"${filename}\": `;\n",
              "      div.appendChild(label);\n",
              "      const progress = document.createElement('progress');\n",
              "      progress.max = size;\n",
              "      div.appendChild(progress);\n",
              "      document.body.appendChild(div);\n",
              "\n",
              "      const buffers = [];\n",
              "      let downloaded = 0;\n",
              "\n",
              "      const channel = await google.colab.kernel.comms.open(id);\n",
              "      // Send a message to notify the kernel that we're ready.\n",
              "      channel.send({})\n",
              "\n",
              "      for await (const message of channel.messages) {\n",
              "        // Send a message to notify the kernel that we're ready.\n",
              "        channel.send({})\n",
              "        if (message.buffers) {\n",
              "          for (const buffer of message.buffers) {\n",
              "            buffers.push(buffer);\n",
              "            downloaded += buffer.byteLength;\n",
              "            progress.value = downloaded;\n",
              "          }\n",
              "        }\n",
              "      }\n",
              "      const blob = new Blob(buffers, {type: 'application/binary'});\n",
              "      const a = document.createElement('a');\n",
              "      a.href = window.URL.createObjectURL(blob);\n",
              "      a.download = filename;\n",
              "      div.appendChild(a);\n",
              "      a.click();\n",
              "      div.remove();\n",
              "    }\n",
              "  "
            ]
          },
          "metadata": {}
        },
        {
          "output_type": "display_data",
          "data": {
            "text/plain": [
              "<IPython.core.display.Javascript object>"
            ],
            "application/javascript": [
              "download(\"download_132bf771-b102-4030-a323-38355b62b1de\", \"Cara Ceroboh Untuk Mencinta.zip\", 30349224)"
            ]
          },
          "metadata": {}
        }
      ]
    }
  ]
}