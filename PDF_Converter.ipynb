{
  "nbformat": 4,
  "nbformat_minor": 0,
  "metadata": {
    "colab": {
      "provenance": [],
      "authorship_tag": "ABX9TyOP8QEEZfMBXl/x9s+iHZqG",
      "include_colab_link": true
    },
    "kernelspec": {
      "name": "python3",
      "display_name": "Python 3"
    },
    "language_info": {
      "name": "python"
    }
  },
  "cells": [
    {
      "cell_type": "markdown",
      "metadata": {
        "id": "view-in-github",
        "colab_type": "text"
      },
      "source": [
        "<a href=\"https://colab.research.google.com/github/nneko1231/PDF-Converter/blob/main/PDF_Converter.ipynb\" target=\"_parent\"><img src=\"https://colab.research.google.com/assets/colab-badge.svg\" alt=\"Open In Colab\"/></a>"
      ]
    },
    {
      "cell_type": "code",
      "source": [
        "# will mount drive if MOUNT_DRIVE is True\n",
        "import os\n",
        "import subprocess\n",
        "import shutil\n",
        "from google.colab import drive, output\n",
        "\n",
        "# Add a parameter to control mounting Google Drive\n",
        "MOUNT_DRIVE = False  #@param {type:\"boolean\"}\n",
        "\n",
        "# mount drive if MOUNT_DRIVE is True\n",
        "if MOUNT_DRIVE:\n",
        "    drive.mount('/content/drive')"
      ],
      "metadata": {
        "cellView": "form",
        "id": "9Bq_qy3AyI_V"
      },
      "execution_count": null,
      "outputs": []
    },
    {
      "cell_type": "code",
      "source": [
        "#@title Install Libary\n",
        "!apt-get install -y poppler-utils\n",
        "!pip install pdf2image"
      ],
      "metadata": {
        "cellView": "form",
        "id": "o0CmjjfDideN"
      },
      "execution_count": null,
      "outputs": []
    },
    {
      "cell_type": "code",
      "source": [
        "#@title Run\n",
        "from pdf2image import convert_from_path\n",
        "from PIL import Image\n",
        "import os\n",
        "import zipfile\n",
        "from tqdm import tqdm\n",
        "import multiprocessing\n",
        "\n",
        "PDF_PATH = \"\" #@param {type:\"string\"}\n",
        "IMAGE_FORMAT = \"png\" # @param [\"png\",\"jpg\"]\n",
        "IMAGE_DPI = 300 #@param [\"72\",\"150\",\"300\",\"600\"]\n",
        "IMAGE_NAME = \"\" #@param {type:\"string\"}\n",
        "IMAGE_FORMAT_NUMBER = 0 #@param {\"type\":\"integer\"}\n",
        "IMAGE_PATH = \"\" #@param {type:\"string\"}\n",
        "ZIP_OUTPUT_PATH = \"\" #@param {type:\"string\"}\n",
        "\n",
        "os.makedirs(IMAGE_PATH, exist_ok=True)\n",
        "\n",
        "max_threads = multiprocessing.cpu_count()\n",
        "\n",
        "pages = convert_from_path(\n",
        "    PDF_PATH,\n",
        "    dpi=int(IMAGE_DPI),\n",
        "    thread_count=max_threads\n",
        ")\n",
        "\n",
        "image_files = []\n",
        "print(\"📄 Converting PDF to images...\")\n",
        "for i, page in enumerate(\n",
        "    tqdm(pages, desc=\"Converting\", unit=\"page\", total=len(pages)),\n",
        "    start=IMAGE_FORMAT_NUMBER\n",
        "):\n",
        "    file_name = f\"{IMAGE_NAME}_{str(i).zfill(2)}.{IMAGE_FORMAT}\"\n",
        "    file_path = os.path.join(IMAGE_PATH, file_name)\n",
        "    page.save(file_path, IMAGE_FORMAT.upper())\n",
        "    image_files.append(file_path)\n",
        "\n",
        "print(\"\\n📦 Creating ZIP file...\")\n",
        "zip_filename = f\"{ZIP_OUTPUT_PATH}.zip\"\n",
        "with zipfile.ZipFile(zip_filename, 'w') as zipf:\n",
        "    for file in tqdm(image_files, desc=\"Zipping\", unit=\"file\"):\n",
        "        zipf.write(file, os.path.basename(file))\n",
        "\n",
        "print(f\"\\n✅ All images saved in: {IMAGE_PATH}\")\n",
        "print(f\"✅ ZIP file created at: {zip_filename}\")"
      ],
      "metadata": {
        "id": "LYhwtfIS1d44",
        "cellView": "form"
      },
      "execution_count": null,
      "outputs": []
    },
    {
      "cell_type": "code",
      "source": [
        "#@title Zip Download\n",
        "from google.colab import files\n",
        "\n",
        "if not ZIP_OUTPUT_PATH.endswith(\".zip\"):\n",
        "    zip_file = ZIP_OUTPUT_PATH + \".zip\"\n",
        "else:\n",
        "    zip_file = ZIP_OUTPUT_PATH\n",
        "\n",
        "files.download(zip_file)\n"
      ],
      "metadata": {
        "cellView": "form",
        "id": "zT3EVlQ75W5c"
      },
      "execution_count": null,
      "outputs": []
    }
  ]
}